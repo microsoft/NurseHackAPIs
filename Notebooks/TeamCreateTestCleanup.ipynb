{
    "metadata": {
        "kernelspec": {
            "name": "SQL",
            "display_name": "SQL",
            "language": "sql"
        },
        "language_info": {
            "name": "sql",
            "version": ""
        },
        "extensions": {
            "azuredatastudio": {
                "version": 1,
                "views": []
            }
        }
    },
    "nbformat_minor": 2,
    "nbformat": 4,
    "cells": [
        {
            "cell_type": "code",
            "source": [
                "DECLARE @TEAMID INT\r\n",
                "select top 1 @TEAMID = teamid\r\n",
                "from tbl_Teams\r\n",
                "where CreatedBy = 'phjirsa@devupconf.org'\r\n",
                "\r\n",
                "PRINT @TEAMID"
            ],
            "metadata": {
                "azdata_cell_guid": "5490b486-54fa-4845-bac7-df553c52fa40",
                "tags": []
            },
            "outputs": [
                {
                    "output_type": "display_data",
                    "data": {
                        "text/html": "249"
                    },
                    "metadata": {}
                },
                {
                    "output_type": "display_data",
                    "data": {
                        "text/html": "Total execution time: 00:00:00.042"
                    },
                    "metadata": {}
                }
            ],
            "execution_count": 7
        },
        {
            "cell_type": "code",
            "source": [
                "DECLARE @TEAMID INT\r\n",
                "SET @TEAMID = 249\r\n",
                "\r\n",
                "delete tbl_TeamHackers\r\n",
                "where TeamId = @TEAMID\r\n",
                "\r\n",
                "delete tbl_Teams\r\n",
                "where TeamId = @TEAMID"
            ],
            "metadata": {
                "azdata_cell_guid": "ed338a96-3ca6-46dc-8d91-a71ff14cc223"
            },
            "outputs": [
                {
                    "output_type": "display_data",
                    "data": {
                        "text/html": "(0 rows affected)"
                    },
                    "metadata": {}
                },
                {
                    "output_type": "display_data",
                    "data": {
                        "text/html": "(1 row affected)"
                    },
                    "metadata": {}
                },
                {
                    "output_type": "display_data",
                    "data": {
                        "text/html": "Total execution time: 00:00:00.080"
                    },
                    "metadata": {}
                }
            ],
            "execution_count": 8
        }
    ]
}